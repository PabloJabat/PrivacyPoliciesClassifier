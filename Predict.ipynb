{
 "cells": [
  {
   "cell_type": "code",
   "execution_count": null,
   "metadata": {},
   "outputs": [],
   "source": [
    "from predict import *\n",
    "from predict import _metrics_wrt_t, _metrics_t\n",
    "import pickle\n",
    "from privacy_policies_dataset import PrivacyPoliciesDataset as PPD\n",
    "from os.path import join, isfile\n",
    "from os import listdir\n",
    "import matplotlib.pyplot as plt"
   ]
  },
  {
   "cell_type": "code",
   "execution_count": null,
   "metadata": {},
   "outputs": [],
   "source": [
    "#We set the folder path containing the models and load the labels\n",
    "folder = 'trained_models/MulticlassOpt'\n",
    "models = load_12CNN_model(folder)\n",
    "\n",
    "#We load the labels\n",
    "with open('labels.pkl') as f:\n",
    "    labels = pickle.load(f)\n",
    "\n",
    "#We set the folder containing the data already prepared for predicting\n",
    "data_folder = 'datasets'\n",
    "data_file = join(data_folder, 'test_dataset_label6.pkl')\n",
    "\n",
    "#We load the data and get just the segments\n",
    "data = PPD.unpickle_dataset(data_file)\n",
    "\n",
    "#We predict the labels\n",
    "predictions = predict(data, models)\n",
    "\n",
    "#Computation of all metrics \n",
    "f1s, ps, rs, ts = _metrics_wrt_t(data.labels_tensor,predictions)\n",
    "figure = plt.figure(figsize=(18,5))\n",
    "figure.suptitle('12-CNN Micro Averages with respect t')\n",
    "ax_f1 = figure.add_subplot(131)\n",
    "ax_f1.set_ylim(0,1)\n",
    "ax_p = figure.add_subplot(132)\n",
    "ax_p.set_ylim(0,1)\n",
    "ax_r = figure.add_subplot(133)\n",
    "ax_r.set_ylim(0,1)\n",
    "ax_f1.plot(ts, f1s)\n",
    "ax_p.plot(ts, ps)\n",
    "ax_r.plot(ts, rs)\n",
    "plt.show()"
   ]
  },
  {
   "cell_type": "code",
   "execution_count": null,
   "metadata": {},
   "outputs": [],
   "source": [
    "labels"
   ]
  },
  {
   "cell_type": "code",
   "execution_count": null,
   "metadata": {},
   "outputs": [],
   "source": [
    "save_metrics(data.labels_tensor, predictions, 'trained_models/MulticlassOpt/metrics.csv')"
   ]
  },
  {
   "cell_type": "code",
   "execution_count": null,
   "metadata": {},
   "outputs": [],
   "source": [
    "ts = best_ts(data.labels_tensor, predictions)"
   ]
  },
  {
   "cell_type": "code",
   "execution_count": null,
   "metadata": {},
   "outputs": [],
   "source": [
    "ts.unsqueeze(0)"
   ]
  },
  {
   "cell_type": "code",
   "execution_count": null,
   "metadata": {},
   "outputs": [],
   "source": [
    "y_hat = (predictions > ts.unsqueeze(0)).double()"
   ]
  },
  {
   "cell_type": "code",
   "execution_count": null,
   "metadata": {},
   "outputs": [],
   "source": [
    "macro_metrics(data.labels_tensor, y_hat)"
   ]
  },
  {
   "cell_type": "code",
   "execution_count": null,
   "metadata": {},
   "outputs": [],
   "source": [
    "micro_metrics(data.labels_tensor, y_hat)"
   ]
  },
  {
   "cell_type": "code",
   "execution_count": null,
   "metadata": {},
   "outputs": [],
   "source": []
  }
 ],
 "metadata": {
  "kernelspec": {
   "display_name": "Python 2",
   "language": "python",
   "name": "python2"
  },
  "language_info": {
   "codemirror_mode": {
    "name": "ipython",
    "version": 2
   },
   "file_extension": ".py",
   "mimetype": "text/x-python",
   "name": "python",
   "nbconvert_exporter": "python",
   "pygments_lexer": "ipython2",
   "version": "2.7.15"
  }
 },
 "nbformat": 4,
 "nbformat_minor": 2
}
