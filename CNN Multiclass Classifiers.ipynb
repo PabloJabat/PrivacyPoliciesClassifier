{
 "cells": [
  {
   "cell_type": "markdown",
   "metadata": {},
   "source": [
    "# Example of a Convolutional Neural Network (12-Multiclass) for Text Classification"
   ]
  },
  {
   "cell_type": "markdown",
   "metadata": {},
   "source": [
    "We first include all the necesary imports."
   ]
  },
  {
   "cell_type": "code",
   "execution_count": null,
   "metadata": {},
   "outputs": [],
   "source": [
    "#Imports needed from pytorch\n",
    "import torch\n",
    "import torch.nn as nn\n",
    "\n",
    "#Some built-in imports\n",
    "import numpy as np\n",
    "import matplotlib.pyplot as plt\n",
    "import pickle\n",
    "from os.path import join, isfile\n",
    "\n",
    "#Imports from the repository\n",
    "from data_processing import get_weight_matrix\n",
    "from privacy_policies_dataset import PrivacyPoliciesDataset as PPD\n",
    "from cnn import CNN"
   ]
  },
  {
   "cell_type": "code",
   "execution_count": null,
   "metadata": {},
   "outputs": [],
   "source": [
    "def confusion_matrix(model, dataset, label, threshold):\n",
    "    \n",
    "    metrics = {}\n",
    "    x = PPD.collate_data(dataset)[0]\n",
    "    y_hat = model(x)\n",
    "    y_hat = torch.ge(y_hat, threshold).double()\n",
    "    y = dataset.labels_tensor[:,label].unsqueeze(1).double() \n",
    "    tp = (y * y_hat).sum()\n",
    "    tn = ((1 - y) * (1 - y_hat)).sum()\n",
    "    fp = (y_hat * (1 - y)).sum()\n",
    "    fn = ((1 - y_hat) * y).sum()\n",
    "    metrics['TP{}'.format(label)] = tp\n",
    "    metrics['TN{}'.format(label)] = tn\n",
    "    metrics['FP{}'.format(label)] = fp\n",
    "    metrics['FN{}'.format(label)] = fn\n",
    "    \n",
    "    return metrics\n",
    "\n",
    "def save_confusion_matrix(matrix, label, name, output_path):\n",
    "    \n",
    "    output = join(output_path, 'cm{}_{}.pkl'.format(label, name))\n",
    "    \n",
    "    with open(output, 'wb') as f:\n",
    "        \n",
    "        pickle.dump(matrix, f)\n",
    "        \n",
    "def load_confusion_matrix(path, label):\n",
    "    \n",
    "    matrix_path = join(path, 'cm{}.pkl'.format(label))\n",
    "    \n",
    "    with open(matrix_path, 'rb') as f:\n",
    "        \n",
    "        return pickle.load(f)"
   ]
  },
  {
   "cell_type": "code",
   "execution_count": null,
   "metadata": {},
   "outputs": [],
   "source": [
    "def confusion_matrices(model, dataset, threshold):\n",
    "    \n",
    "    metrics = {}\n",
    "    x = PPD.collate_data(dataset)[0]\n",
    "    y_hat = model(x)\n",
    "    y_hat = torch.ge(y_hat, threshold).double()\n",
    "    y = dataset.labels_tensor.double() \n",
    "    tp = (y * y_hat).sum(0).numpy()\n",
    "    tn = ((1 - y) * (1 - y_hat)).sum(0).numpy()\n",
    "    fp = (y_hat * (1 - y)).sum(0).numpy()\n",
    "    fn = ((1 - y_hat) * y).sum(0).numpy()\n",
    "    metrics['TP'] = tp\n",
    "    metrics['TN'] = tn\n",
    "    metrics['FP'] = fp\n",
    "    metrics['FN'] = fn\n",
    "    \n",
    "    return metrics\n",
    "\n",
    "def confusion_matrices_change(metrics_05, metrics_best_t):\n",
    "    \n",
    "    labels = range(12)\n",
    "    fig = plt.figure()\n",
    "    fig.suptitle(\"metrics differences\")\n",
    "    tp_ax = fig.add_subplot(411)\n",
    "    tn_ax = fig.add_subplot(412)\n",
    "    fp_ax = fig.add_subplot(413)\n",
    "    fn_ax = fig.add_subplot(414)\n",
    "    \n",
    "    tp_ax.plot(labels, metrics_05['TP'])\n",
    "    tn_ax.plot(labels, metrics_05['TN'])\n",
    "    fp_ax.plot(labels, metrics_05['FP'])\n",
    "    fn_ax.plot(labels, metrics_05['FN'])\n",
    "    \n",
    "    tp_ax.plot(labels, metrics_05['TP'])\n",
    "    tn_ax.plot(labels, metrics_05['TN'])\n",
    "    fp_ax.plot(labels, metrics_05['FP'])\n",
    "    fn_ax.plot(labels, metrics_05['FN'])\n",
    "    \n",
    "    plt.show()"
   ]
  },
  {
   "cell_type": "code",
   "execution_count": null,
   "metadata": {},
   "outputs": [],
   "source": [
    "def get_metrics_t(model, training_dataset, validation_dataset):\n",
    "    \n",
    "    threshold_list = np.arange(0.0, 1, 0.01)\n",
    "    \n",
    "    eps = 1e-10\n",
    "    \n",
    "    f1_scores = []\n",
    "    \n",
    "    precisions = []\n",
    "    \n",
    "    recalls = []\n",
    "    \n",
    "    for t in threshold_list:\n",
    "        \n",
    "        cm = confusion_matrix(model, validation_dataset, label, t)\n",
    "        \n",
    "        tp = cm['TP{}'.format(label)]\n",
    "        \n",
    "        fp = cm['FP{}'.format(label)]\n",
    "        \n",
    "        fn = cm['FN{}'.format(label)]\n",
    "        \n",
    "        f1 = 2 * tp / (2 * tp + fn + fp + eps)\n",
    "        \n",
    "        precision = tp / (tp + fp + eps)\n",
    "        \n",
    "        recall = tp / (tp + fn + eps)\n",
    "        \n",
    "        f1_scores.append(f1)\n",
    "        \n",
    "        precisions.append(precision)\n",
    "        \n",
    "        recalls.append(recalls)\n",
    "        \n",
    "    return f1_scores, precisions, recalls"
   ]
  },
  {
   "cell_type": "code",
   "execution_count": null,
   "metadata": {},
   "outputs": [],
   "source": [
    "def get_best_threshold(model, validation_dataset, label):\n",
    "    \n",
    "    eps = 1e-10\n",
    "    \n",
    "    threshold_list = np.arange(0.0, 1, 0.01)\n",
    "    \n",
    "    best_f1 = 0\n",
    "    \n",
    "    best_t = 0\n",
    "    \n",
    "    for t in threshold_list:\n",
    "        \n",
    "        cm = confusion_matrix(model, validation_dataset, label, t)\n",
    "        \n",
    "        tp = cm['TP{}'.format(label)]\n",
    "        \n",
    "        fp = cm['FP{}'.format(label)]\n",
    "        \n",
    "        fn = cm['FN{}'.format(label)]\n",
    "        \n",
    "        f1 = 2 * tp / (2 * tp + fn + fp + eps) \n",
    "        \n",
    "        if f1 > best_f1:\n",
    "            \n",
    "            best_f1 = f1\n",
    "            \n",
    "            best_t = t\n",
    "            \n",
    "    return best_f1, best_t"
   ]
  },
  {
   "cell_type": "markdown",
   "metadata": {},
   "source": [
    "## Data Loading"
   ]
  },
  {
   "cell_type": "markdown",
   "metadata": {},
   "source": [
    "The first step is to load the previously split data into the three datasets: train, validation and text dataset."
   ]
  },
  {
   "cell_type": "code",
   "execution_count": null,
   "metadata": {},
   "outputs": [],
   "source": [
    "test_dataset = PPD.unpickle_dataset(\"datasets/test_dataset_label6.pkl\")\n",
    "\n",
    "train_dataset = PPD.unpickle_dataset(\"datasets/train_dataset_label6.pkl\")\n",
    "\n",
    "validation_dataset = PPD.unpickle_dataset(\"datasets/validation_dataset_label6.pkl\")"
   ]
  },
  {
   "cell_type": "code",
   "execution_count": null,
   "metadata": {},
   "outputs": [],
   "source": [
    "train_dataset.labels_stats()"
   ]
  },
  {
   "cell_type": "markdown",
   "metadata": {},
   "source": [
    "We now load the weight matrix that will be used in the embedding layer. If the weight matrix hasn't been created yet we will need to use the data_processing.py to do so."
   ]
  },
  {
   "cell_type": "code",
   "execution_count": null,
   "metadata": {},
   "outputs": [],
   "source": [
    "weights_matrix = get_weight_matrix(300, \"embeddings_data/FastTextMatrices/NoOOV\", read = True)"
   ]
  },
  {
   "cell_type": "markdown",
   "metadata": {},
   "source": [
    "Now we take a look to all the labels and select one of them to be trained"
   ]
  },
  {
   "cell_type": "code",
   "execution_count": null,
   "metadata": {},
   "outputs": [],
   "source": [
    "labels = train_dataset.labels\n",
    "\n",
    "for label, index in labels.items():\n",
    "    \n",
    "    print(str(index) + '. ' + label)"
   ]
  },
  {
   "cell_type": "code",
   "execution_count": null,
   "metadata": {},
   "outputs": [],
   "source": [
    "label = int(raw_input(\"Insert label index: \"))\n",
    "\n",
    "for label_name, index in labels.items():\n",
    "    \n",
    "    if index == label:\n",
    "        \n",
    "        print(str(index) + '. ' + label_name)\n",
    "        "
   ]
  },
  {
   "cell_type": "markdown",
   "metadata": {},
   "source": [
    "## Training the CNN"
   ]
  },
  {
   "cell_type": "markdown",
   "metadata": {},
   "source": [
    "The last step is to instatntiate a CNN with the desired parameters, load the embeddings and train the model."
   ]
  },
  {
   "cell_type": "code",
   "execution_count": null,
   "metadata": {},
   "outputs": [],
   "source": [
    "model = CNN(weights_matrix.shape[0], weights_matrix.shape[1], 200, [100], 1, [3], name = 'label{}_polisis'.format((label)))\n",
    "\n",
    "model.load_pretrained_embeddings(weights_matrix)"
   ]
  },
  {
   "cell_type": "code",
   "execution_count": null,
   "metadata": {},
   "outputs": [],
   "source": [
    "results = model.train_label(train_dataset, validation_dataset, label, epochs_num = 20, lr = 0.005, alpha = 0, momentum = 0.9)\n",
    "\n",
    "epochs, train_losses, validation_losses = results"
   ]
  },
  {
   "cell_type": "markdown",
   "metadata": {},
   "source": [
    "## Training all labels"
   ]
  },
  {
   "cell_type": "code",
   "execution_count": null,
   "metadata": {},
   "outputs": [],
   "source": [
    "epochs_num = [60, 60, 150, 150, 70, 100, 150, 100, 70, 65, 80, 60]\n",
    "\n",
    "lr = 0.001\n",
    "\n",
    "best_thresholds = []\n",
    "\n",
    "for label in range(12):    \n",
    "    \n",
    "    if epochs_num[label] == 100 or label in [0,1,2,3]:\n",
    "        \n",
    "        continue\n",
    "    \n",
    "    model = CNN(weights_matrix.shape[0], weights_matrix.shape[1], 200, [100, 25], 1, [3], \n",
    "                name = 'e{}_label{}_polisis'.format(epochs_num[label],label))\n",
    "\n",
    "    model.load_pretrained_embeddings(weights_matrix)\n",
    "\n",
    "    results = model.train_label(train_dataset, validation_dataset, label, epochs_num = epochs_num[label], lr = lr, \n",
    "                                alpha = 0, momentum = 0.9)\n",
    "\n",
    "    epochs, train_losses, validation_losses = results\n",
    "\n",
    "    plt.plot(epochs, train_losses, label = \"train\")\n",
    "\n",
    "    plt.plot(epochs, validation_losses, label = \"validation\")\n",
    "\n",
    "    plt.legend()\n",
    "\n",
    "    plt.title(\"loss vs epoch\")\n",
    "\n",
    "    plt.savefig(join(\"trained_models_pics/MulticlassOpt\", model.cnn_name + '_loss.png'), format = 'png')\n",
    "\n",
    "    dict_path = join(\"trained_models/MulticlassOpt\", model.cnn_name + \"_state.pt\")\n",
    "\n",
    "    torch.save(model.state_dict(), dict_path)\n",
    "\n",
    "    model.save_cnn_params()\n",
    "\n",
    "    model.print_results_label(train_dataset, validation_dataset, label, 0.5)\n",
    "    \n",
    "    cm_05 = confusion_matrix(model, validation_dataset, label, 0.5)\n",
    "\n",
    "    save_confusion_matrix(cm_05, label, '0.5', 'trained_models/MulticlassOpt')\n",
    "    \n",
    "    best_f1, best_t = get_best_threshold(model, validation_dataset, label)\n",
    "    \n",
    "    print('label{} F1: {}'.format(label,best_f1))\n",
    "    \n",
    "    best_thresholds.append(best_t)\n",
    "    \n",
    "    cm_bt = confusion_matrix(model, validation_dataset, label, 0.5)\n",
    "\n",
    "    save_confusion_matrix(cm_bt, label, 'best_t', 'trained_models/MulticlassOpt')\n",
    "    \n",
    "with open('trained_models/MulticlassOpt/best_thresholds.pkl','wb') as f:\n",
    "\n",
    "    pickle.dump(best_thresholds, f)"
   ]
  },
  {
   "cell_type": "markdown",
   "metadata": {},
   "source": [
    "## Results"
   ]
  },
  {
   "cell_type": "markdown",
   "metadata": {},
   "source": [
    "This first block of code will show us the how the loss develops during the training."
   ]
  },
  {
   "cell_type": "code",
   "execution_count": null,
   "metadata": {
    "scrolled": true
   },
   "outputs": [],
   "source": [
    "plt.plot(epochs, train_losses, label = \"train\")\n",
    "\n",
    "plt.plot(epochs, validation_losses, label = \"validation\")\n",
    "\n",
    "plt.legend()\n",
    "\n",
    "plt.title(\"loss vs epoch\")\n",
    "\n",
    "plt.savefig(join(\"trained_models_pics\", model.cnn_name + '_loss.png'), format = 'png')\n",
    "\n",
    "plt.show()"
   ]
  },
  {
   "cell_type": "markdown",
   "metadata": {},
   "source": [
    "We save the model so that we can use it further in the future."
   ]
  },
  {
   "cell_type": "code",
   "execution_count": null,
   "metadata": {},
   "outputs": [],
   "source": [
    "dict_path = join(\"trained_models\", model.cnn_name + \"_state.pt\")\n",
    "\n",
    "torch.save(model.state_dict(), dict_path)\n",
    "\n",
    "model.save_cnn_params()"
   ]
  },
  {
   "cell_type": "markdown",
   "metadata": {},
   "source": [
    "And finally, we print the metrics to evaluate the model."
   ]
  },
  {
   "cell_type": "code",
   "execution_count": null,
   "metadata": {},
   "outputs": [],
   "source": [
    "model.print_results_label(train_dataset, test_dataset, label, 0.5)"
   ]
  },
  {
   "cell_type": "code",
   "execution_count": null,
   "metadata": {},
   "outputs": [],
   "source": [
    "cm = confusion_matrix(model, test_dataset, label, 0.6)"
   ]
  },
  {
   "cell_type": "code",
   "execution_count": null,
   "metadata": {},
   "outputs": [],
   "source": [
    "save_confusion_matrix(cm, label, 'trained_models/Multiclass')"
   ]
  }
 ],
 "metadata": {
  "kernelspec": {
   "display_name": "Python 2",
   "language": "python",
   "name": "python2"
  },
  "language_info": {
   "codemirror_mode": {
    "name": "ipython",
    "version": 2
   },
   "file_extension": ".py",
   "mimetype": "text/x-python",
   "name": "python",
   "nbconvert_exporter": "python",
   "pygments_lexer": "ipython2",
   "version": "2.7.15"
  }
 },
 "nbformat": 4,
 "nbformat_minor": 2
}
