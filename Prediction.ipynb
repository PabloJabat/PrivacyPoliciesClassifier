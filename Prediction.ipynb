{
 "cells": [
  {
   "cell_type": "code",
   "execution_count": 8,
   "metadata": {},
   "outputs": [],
   "source": [
    "import pandas as pd\n",
    "import torch\n",
    "import torch.optim  \n",
    "import torch.nn as nn\n",
    "import torch.nn.functional as F\n",
    "from math import log, log10\n",
    "from torch.utils.data import Dataset\n",
    "import data_processing as dp\n",
    "import pickle\n",
    "from privacy_policies_dataset import PrivacyPoliciesDataset\n",
    "from os.path import isfile, join\n",
    "from os import listdir\n",
    "import numpy as np\n",
    "import nltk\n",
    "import sys\n",
    "import time\n",
    "from cnn import CNN, train_cnn"
   ]
  },
  {
   "cell_type": "code",
   "execution_count": 5,
   "metadata": {},
   "outputs": [],
   "source": [
    "start = time.time()"
   ]
  },
  {
   "cell_type": "code",
   "execution_count": 6,
   "metadata": {},
   "outputs": [],
   "source": [
    "end = time.time()"
   ]
  },
  {
   "cell_type": "code",
   "execution_count": 7,
   "metadata": {},
   "outputs": [
    {
     "data": {
      "text/plain": [
       "5.155760049819946"
      ]
     },
     "execution_count": 7,
     "metadata": {},
     "output_type": "execute_result"
    }
   ],
   "source": [
    "end - start"
   ]
  },
  {
   "cell_type": "code",
   "execution_count": 3,
   "metadata": {},
   "outputs": [
    {
     "name": "stdout",
     "output_type": "stream",
     "text": [
      "Wed Sep 26 14:08:46 2018"
     ]
    },
    {
     "ename": "KeyboardInterrupt",
     "evalue": "",
     "output_type": "error",
     "traceback": [
      "\u001b[0;31m---------------------------------------------------------------------------\u001b[0m",
      "\u001b[0;31mKeyboardInterrupt\u001b[0m                         Traceback (most recent call last)",
      "\u001b[0;32m<ipython-input-3-e2b7bbe7a869>\u001b[0m in \u001b[0;36m<module>\u001b[0;34m()\u001b[0m\n\u001b[1;32m      3\u001b[0m     \u001b[0msys\u001b[0m\u001b[0;34m.\u001b[0m\u001b[0mstdout\u001b[0m\u001b[0;34m.\u001b[0m\u001b[0mwrite\u001b[0m\u001b[0;34m(\u001b[0m\u001b[0;34m\"\\r\"\u001b[0m \u001b[0;34m+\u001b[0m \u001b[0mtime\u001b[0m\u001b[0;34m.\u001b[0m\u001b[0mctime\u001b[0m\u001b[0;34m(\u001b[0m\u001b[0;34m)\u001b[0m\u001b[0;34m)\u001b[0m\u001b[0;34m\u001b[0m\u001b[0m\n\u001b[1;32m      4\u001b[0m     \u001b[0msys\u001b[0m\u001b[0;34m.\u001b[0m\u001b[0mstdout\u001b[0m\u001b[0;34m.\u001b[0m\u001b[0mflush\u001b[0m\u001b[0;34m(\u001b[0m\u001b[0;34m)\u001b[0m\u001b[0;34m\u001b[0m\u001b[0m\n\u001b[0;32m----> 5\u001b[0;31m     \u001b[0mtime\u001b[0m\u001b[0;34m.\u001b[0m\u001b[0msleep\u001b[0m\u001b[0;34m(\u001b[0m\u001b[0;36m1\u001b[0m\u001b[0;34m)\u001b[0m\u001b[0;34m\u001b[0m\u001b[0m\n\u001b[0m",
      "\u001b[0;31mKeyboardInterrupt\u001b[0m: "
     ]
    }
   ],
   "source": [
    "import time, sys\n",
    "while True:\n",
    "    sys.stdout.write(\"\\r\" + time.ctime())\n",
    "    sys.stdout.flush()\n",
    "    time.sleep(1)"
   ]
  },
  {
   "cell_type": "code",
   "execution_count": null,
   "metadata": {},
   "outputs": [],
   "source": [
    "dictionary = dp.get_tokens(\"raw_data\",True)\n",
    "word2vector, word2idx_glove = dp.get_glove_dicts(\"glove.6B\", 50, True)\n",
    "weights_matrix, word2idx = dp.get_weight_matrix(dictionary, word2vector, 50, True)"
   ]
  },
  {
   "cell_type": "code",
   "execution_count": 45,
   "metadata": {},
   "outputs": [],
   "source": [
    "w = parameters['embedding.weight']"
   ]
  },
  {
   "cell_type": "code",
   "execution_count": 47,
   "metadata": {},
   "outputs": [],
   "source": [
    "other_params = {'weights_matrix': w, 'Co': 12, 'Hu': 22, 'C': 9, 'Ks': [3,5,7]}"
   ]
  },
  {
   "cell_type": "code",
   "execution_count": 49,
   "metadata": {},
   "outputs": [],
   "source": [
    "model = CNN(**other_params)"
   ]
  },
  {
   "cell_type": "code",
   "execution_count": 41,
   "metadata": {},
   "outputs": [],
   "source": [
    "parameters = torch.load(\"model_all.pt\")"
   ]
  },
  {
   "cell_type": "code",
   "execution_count": 37,
   "metadata": {},
   "outputs": [],
   "source": [
    "conv_layers = [layer for layer in parameters.keys() if 'convolutions' in layer]"
   ]
  },
  {
   "cell_type": "code",
   "execution_count": 38,
   "metadata": {},
   "outputs": [
    {
     "data": {
      "text/plain": [
       "['convolutions.0.weight',\n",
       " 'convolutions.0.bias',\n",
       " 'convolutions.1.weight',\n",
       " 'convolutions.1.bias',\n",
       " 'convolutions.2.weight',\n",
       " 'convolutions.2.bias']"
      ]
     },
     "execution_count": 38,
     "metadata": {},
     "output_type": "execute_result"
    }
   ],
   "source": [
    "conv_layers"
   ]
  },
  {
   "cell_type": "code",
   "execution_count": 40,
   "metadata": {},
   "outputs": [
    {
     "data": {
      "text/plain": [
       "torch.Size([12, 1, 3, 100])"
      ]
     },
     "execution_count": 40,
     "metadata": {},
     "output_type": "execute_result"
    }
   ],
   "source": [
    "parameters['convolutions.0.weight'].shape"
   ]
  },
  {
   "cell_type": "code",
   "execution_count": null,
   "metadata": {},
   "outputs": [],
   "source": []
  },
  {
   "cell_type": "code",
   "execution_count": null,
   "metadata": {},
   "outputs": [],
   "source": [
    "model = torch.load(\"first_model.model\")"
   ]
  },
  {
   "cell_type": "code",
   "execution_count": null,
   "metadata": {},
   "outputs": [],
   "source": [
    "dict_p = {i: p for i, p in enumerate(params())}"
   ]
  },
  {
   "cell_type": "code",
   "execution_count": null,
   "metadata": {},
   "outputs": [],
   "source": [
    "labels_file = open(\"labels.pkl\",\"rb\")\n",
    "\n",
    "labels = pickle.load(labels_file)\n",
    "\n",
    "labels_file.close()"
   ]
  },
  {
   "cell_type": "code",
   "execution_count": null,
   "metadata": {},
   "outputs": [],
   "source": [
    "def resize_input(segment, target_length):\n",
    "    \n",
    "    zeros_to_prepend = (target_length - len(segment))/2\n",
    "\n",
    "    zeros_to_append = target_length - len(segment) - zeros_to_prepend\n",
    "\n",
    "    resized_array = np.append(np.zeros(zeros_to_prepend), segment)\n",
    "\n",
    "    resized_array = np.append(resized_array, np.zeros(zeros_to_append))\n",
    "\n",
    "    return torch.tensor(resized_array, dtype = torch.int64)"
   ]
  },
  {
   "cell_type": "code",
   "execution_count": null,
   "metadata": {},
   "outputs": [],
   "source": [
    "def vector_to_labels(vector, labels, threshold = 0.5): \n",
    "    \"\"\"\n",
    "    \n",
    "    Returns a vector representing the label passed as an input.\n",
    "    \n",
    "    Args:\n",
    "        label: string, label that we want to transform into a vector.\n",
    "        labels: dictionary, dictionary with the labels as the keys and indexes as the values.\n",
    "    Returns:\n",
    "        vector: np.array, 1-D array of lenght 10.\n",
    "        \n",
    "    \"\"\"\n",
    "    \n",
    "    vector = vector.squeeze(0)\n",
    "    \n",
    "    tests = vector > threshold\n",
    "    \n",
    "    candidates = [key for i, test in enumerate(tests) if test for key, value in labels.items() if value == i]\n",
    "    \n",
    "    return candidates"
   ]
  },
  {
   "cell_type": "code",
   "execution_count": null,
   "metadata": {},
   "outputs": [],
   "source": [
    "def guess_labels(model, segment, word2idx, labels, threshold = 0.5):\n",
    "\n",
    "    segment = dp.sentence_serialization(segment,word2idx)\n",
    "\n",
    "    segment = resize_input(segment, 425).unsqueeze(0).unsqueeze(0)\n",
    "\n",
    "    prediction = model(segment)\n",
    "\n",
    "    candidates = vector_to_labels(prediction, labels, threshold)\n",
    "\n",
    "    for i, candidate in enumerate(candidates,1):\n",
    "\n",
    "        print(str(i) + \". \" + candidate)"
   ]
  },
  {
   "cell_type": "code",
   "execution_count": null,
   "metadata": {},
   "outputs": [],
   "source": [
    "segment1 = \"the data will be erase after usage\"\n",
    "\n",
    "segment2 = \"you can't recover your data\"\n",
    "\n",
    "segment3 = \"we will share all your data\"\n",
    "\n",
    "print(\"First guess: \")\n",
    "\n",
    "guess_labels(model, segment1, word2idx, labels, 0.47)\n",
    "\n",
    "print(\"\\n\")\n",
    "\n",
    "print(\"Second guess: \")\n",
    "\n",
    "guess_labels(model, segment2, word2idx, labels, 0.47)\n",
    "\n",
    "print(\"\\n\")\n",
    "\n",
    "print(\"Third guess: \")\n",
    "\n",
    "guess_labels(model, segment3, word2idx, labels, 0.4)"
   ]
  },
  {
   "cell_type": "code",
   "execution_count": null,
   "metadata": {},
   "outputs": [],
   "source": []
  }
 ],
 "metadata": {
  "kernelspec": {
   "display_name": "Python 2",
   "language": "python",
   "name": "python2"
  },
  "language_info": {
   "codemirror_mode": {
    "name": "ipython",
    "version": 2
   },
   "file_extension": ".py",
   "mimetype": "text/x-python",
   "name": "python",
   "nbconvert_exporter": "python",
   "pygments_lexer": "ipython2",
   "version": "2.7.15"
  }
 },
 "nbformat": 4,
 "nbformat_minor": 2
}
