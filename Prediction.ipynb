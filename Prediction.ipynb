{
 "cells": [
  {
   "cell_type": "code",
   "execution_count": null,
   "metadata": {},
   "outputs": [],
   "source": [
    "import pandas as pd\n",
    "import torch\n",
    "import torch.optim  \n",
    "import torch.nn as nn\n",
    "import torch.nn.functional as F\n",
    "from math import log, log10\n",
    "from torch.utils.data import Dataset\n",
    "import data_processing as dp\n",
    "import pickle\n",
    "from privacy_policies_dataset import PrivacyPoliciesDataset\n",
    "from os.path import isfile, join\n",
    "from os import listdir\n",
    "import numpy as np\n",
    "import nltk"
   ]
  },
  {
   "cell_type": "code",
   "execution_count": null,
   "metadata": {},
   "outputs": [],
   "source": [
    "dictionary = dp.get_tokens(\"raw_data\",True)\n",
    "word2vector, word2idx_glove = dp.get_glove_dicts(\"glove.6B\", 50, True)\n",
    "weights_matrix, word2idx = dp.get_weight_matrix(dictionary, word2vector, 50, True)"
   ]
  },
  {
   "cell_type": "code",
   "execution_count": null,
   "metadata": {},
   "outputs": [],
   "source": [
    "class CNN(nn.Module):\n",
    "    \n",
    "    def __init__(self, weights_matrix, Co, C, Ks):\n",
    "        \n",
    "        super(CNN, self).__init__()\n",
    "        \n",
    "        num_embeddings, embeddings_dim = weights_matrix.shape\n",
    "        \n",
    "        self.Co = Co\n",
    "        \n",
    "        self.C = C\n",
    "        \n",
    "        self.Ks = Ks\n",
    "        \n",
    "        self.embedding = nn.Embedding.from_pretrained(torch.tensor(weights_matrix).float())       \n",
    "                       \n",
    "        self.convolutions = nn.ModuleList([nn.Conv2d(1,self.Co,(k, embeddings_dim)) for k in Ks])\n",
    "            \n",
    "        self.relu = nn.ReLU()\n",
    "            \n",
    "        #self.max_pool = torch.max\n",
    "        \n",
    "        self.linear = nn.Linear(self.Co * len(self.Ks), self.C)\n",
    "        \n",
    "        self.sigmoid = nn.Sigmoid()\n",
    "    \n",
    "    def forward(self,x):\n",
    "        \n",
    "        x = self.embedding(x)\n",
    "        \n",
    "        x = [self.relu(conv(x)).squeeze(3) for conv in self.convolutions]\n",
    "        \n",
    "        x = [F.max_pool1d(i, i.size(2)).squeeze(2) for i in x]\n",
    "        \n",
    "        x = torch.cat(x,1)\n",
    "        \n",
    "        x = self.linear(x)\n",
    "        \n",
    "        x = self.sigmoid(x)\n",
    "        \n",
    "        return x        "
   ]
  },
  {
   "cell_type": "code",
   "execution_count": null,
   "metadata": {},
   "outputs": [],
   "source": [
    "model = CNN(weights_matrix, 6, 10, [3,5,7])"
   ]
  },
  {
   "cell_type": "code",
   "execution_count": null,
   "metadata": {},
   "outputs": [],
   "source": [
    "model = torch.load(\"first_model.model\")"
   ]
  },
  {
   "cell_type": "code",
   "execution_count": null,
   "metadata": {},
   "outputs": [],
   "source": [
    "dict_p = {i: p for i, p in enumerate(params())}"
   ]
  },
  {
   "cell_type": "code",
   "execution_count": null,
   "metadata": {},
   "outputs": [],
   "source": [
    "labels_file = open(\"labels.pkl\",\"rb\")\n",
    "\n",
    "labels = pickle.load(labels_file)\n",
    "\n",
    "labels_file.close()"
   ]
  },
  {
   "cell_type": "code",
   "execution_count": null,
   "metadata": {},
   "outputs": [],
   "source": [
    "def resize_input(segment, target_length):\n",
    "    \n",
    "    zeros_to_prepend = (target_length - len(segment))/2\n",
    "\n",
    "    zeros_to_append = target_length - len(segment) - zeros_to_prepend\n",
    "\n",
    "    resized_array = np.append(np.zeros(zeros_to_prepend), segment)\n",
    "\n",
    "    resized_array = np.append(resized_array, np.zeros(zeros_to_append))\n",
    "\n",
    "    return torch.tensor(resized_array, dtype = torch.int64)"
   ]
  },
  {
   "cell_type": "code",
   "execution_count": null,
   "metadata": {},
   "outputs": [],
   "source": [
    "def vector_to_labels(vector, labels, threshold = 0.5): \n",
    "    \"\"\"\n",
    "    \n",
    "    Returns a vector representing the label passed as an input.\n",
    "    \n",
    "    Args:\n",
    "        label: string, label that we want to transform into a vector.\n",
    "        labels: dictionary, dictionary with the labels as the keys and indexes as the values.\n",
    "    Returns:\n",
    "        vector: np.array, 1-D array of lenght 10.\n",
    "        \n",
    "    \"\"\"\n",
    "    \n",
    "    vector = vector.squeeze(0)\n",
    "    \n",
    "    tests = vector > threshold\n",
    "    \n",
    "    candidates = [key for i, test in enumerate(tests) if test for key, value in labels.items() if value == i]\n",
    "    \n",
    "    return candidates"
   ]
  },
  {
   "cell_type": "code",
   "execution_count": null,
   "metadata": {},
   "outputs": [],
   "source": [
    "def guess_labels(model, segment, word2idx, labels, threshold = 0.5):\n",
    "\n",
    "    segment = dp.sentence_serialization(segment,word2idx)\n",
    "\n",
    "    segment = resize_input(segment, 425).unsqueeze(0).unsqueeze(0)\n",
    "\n",
    "    prediction = model(segment)\n",
    "\n",
    "    candidates = vector_to_labels(prediction, labels, threshold)\n",
    "\n",
    "    for i, candidate in enumerate(candidates,1):\n",
    "\n",
    "        print(str(i) + \". \" + candidate)"
   ]
  },
  {
   "cell_type": "code",
   "execution_count": null,
   "metadata": {},
   "outputs": [],
   "source": [
    "segment1 = \"the data will be erase after usage\"\n",
    "\n",
    "segment2 = \"you can't recover your data\"\n",
    "\n",
    "segment3 = \"we will share all your data\"\n",
    "\n",
    "print(\"First guess: \")\n",
    "\n",
    "guess_labels(model, segment1, word2idx, labels, 0.47)\n",
    "\n",
    "print(\"\\n\")\n",
    "\n",
    "print(\"Second guess: \")\n",
    "\n",
    "guess_labels(model, segment2, word2idx, labels, 0.47)\n",
    "\n",
    "print(\"\\n\")\n",
    "\n",
    "print(\"Third guess: \")\n",
    "\n",
    "guess_labels(model, segment3, word2idx, labels, 0.4)"
   ]
  },
  {
   "cell_type": "code",
   "execution_count": null,
   "metadata": {},
   "outputs": [],
   "source": []
  }
 ],
 "metadata": {
  "kernelspec": {
   "display_name": "Python 2",
   "language": "python",
   "name": "python2"
  },
  "language_info": {
   "codemirror_mode": {
    "name": "ipython",
    "version": 2
   },
   "file_extension": ".py",
   "mimetype": "text/x-python",
   "name": "python",
   "nbconvert_exporter": "python",
   "pygments_lexer": "ipython2",
   "version": "2.7.15"
  }
 },
 "nbformat": 4,
 "nbformat_minor": 2
}
