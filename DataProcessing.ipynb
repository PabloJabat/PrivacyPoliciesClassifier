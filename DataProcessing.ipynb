{
 "cells": [
  {
   "cell_type": "code",
   "execution_count": 58,
   "metadata": {},
   "outputs": [],
   "source": [
    "import pandas as pd\n",
    "import torch\n",
    "import torch.optim \n",
    "import torch.nn as nn\n",
    "import torch.nn.functional as F\n",
    "import matplotlib.pyplot as plt\n",
    "from math import log, log10\n",
    "from torch.utils.data import Dataset, DataLoader\n",
    "import data_processing as dp\n",
    "import pickle\n",
    "from privacy_policies_dataset import PrivacyPoliciesDataset\n",
    "from os.path import isfile, join\n",
    "from os import listdir\n",
    "import numpy as np"
   ]
  },
  {
   "cell_type": "code",
   "execution_count": 2,
   "metadata": {},
   "outputs": [
    {
     "name": "stdout",
     "output_type": "stream",
     "text": [
      "Loading from file dictionary.pkl\n"
     ]
    }
   ],
   "source": [
    "dictionary = dp.get_tokens(\"raw_data\", read = True)"
   ]
  },
  {
   "cell_type": "code",
   "execution_count": 3,
   "metadata": {},
   "outputs": [
    {
     "name": "stdout",
     "output_type": "stream",
     "text": [
      "Loading from files word2vector.pkl and word2idx.pkl\n"
     ]
    }
   ],
   "source": [
    "word2vector, word2idx_glove = dp.get_glove_dicts(\"glove.6B\", 50, read = True)"
   ]
  },
  {
   "cell_type": "code",
   "execution_count": 4,
   "metadata": {},
   "outputs": [
    {
     "name": "stdout",
     "output_type": "stream",
     "text": [
      "Loading from file weights_matrix.pkl\n"
     ]
    }
   ],
   "source": [
    "weights_matrix, word2idx = dp.get_weight_matrix(dictionary, word2vector, 50, read = True)"
   ]
  },
  {
   "cell_type": "code",
   "execution_count": 5,
   "metadata": {},
   "outputs": [],
   "source": [
    "labels_file = open(\"labels.pkl\",\"rb\")\n",
    "\n",
    "labels = pickle.load(labels_file)\n",
    "\n",
    "labels_file.close()"
   ]
  },
  {
   "cell_type": "code",
   "execution_count": 6,
   "metadata": {},
   "outputs": [
    {
     "name": "stdout",
     "output_type": "stream",
     "text": [
      "Files are already in agg_data/\n"
     ]
    }
   ],
   "source": [
    "dp.aggregate_data(read = True)"
   ]
  },
  {
   "cell_type": "code",
   "execution_count": 7,
   "metadata": {
    "scrolled": true
   },
   "outputs": [
    {
     "name": "stdout",
     "output_type": "stream",
     "text": [
      "Loading from processed_data/\n"
     ]
    }
   ],
   "source": [
    "sentence_matrices_train, labels_matrices_train = dp.process_dataset(\"train\", labels, word2idx, read = True)"
   ]
  },
  {
   "cell_type": "code",
   "execution_count": 8,
   "metadata": {},
   "outputs": [
    {
     "name": "stdout",
     "output_type": "stream",
     "text": [
      "Loading from processed_data/\n"
     ]
    }
   ],
   "source": [
    "sentence_matrices_test, labels_matrices_test = dp.process_dataset(\"test\", labels, word2idx, read = True)"
   ]
  },
  {
   "cell_type": "code",
   "execution_count": 15,
   "metadata": {},
   "outputs": [
    {
     "name": "stdout",
     "output_type": "stream",
     "text": [
      "Processing dataset ...\n",
      "Resizing segments (filling with zeros). Target size: 425\n",
      "Grouping samples into one Tensor\n"
     ]
    }
   ],
   "source": [
    "train_dataset = PrivacyPoliciesDataset(\"train\" ,\"raw_data\", word2idx, labels, read = False)\n",
    "\n",
    "train_dataset.resize_segments()\n",
    "\n",
    "train_dataset.expand_dimensions()\n",
    "\n",
    "train_dataset.group_samples()"
   ]
  },
  {
   "cell_type": "code",
   "execution_count": 17,
   "metadata": {},
   "outputs": [
    {
     "data": {
      "text/plain": [
       "torch.Size([2026, 1, 425])"
      ]
     },
     "execution_count": 17,
     "metadata": {},
     "output_type": "execute_result"
    }
   ],
   "source": [
    "train_dataset.segments_list.size()"
   ]
  },
  {
   "cell_type": "code",
   "execution_count": 18,
   "metadata": {},
   "outputs": [
    {
     "data": {
      "text/plain": [
       "torch.Size([2026, 10])"
      ]
     },
     "execution_count": 18,
     "metadata": {},
     "output_type": "execute_result"
    }
   ],
   "source": [
    "train_dataset.labels_list.size()"
   ]
  },
  {
   "cell_type": "code",
   "execution_count": 16,
   "metadata": {},
   "outputs": [
    {
     "name": "stdout",
     "output_type": "stream",
     "text": [
      "Processing dataset ...\n",
      "Resizing segments (filling with zeros). Target size: 387\n",
      "Grouping samples into one Tensor\n"
     ]
    }
   ],
   "source": [
    "test_dataset = PrivacyPoliciesDataset(\"test\" ,\"raw_data\", word2idx, labels, read = False)\n",
    "\n",
    "test_dataset.resize_segments()\n",
    "\n",
    "test_dataset.expand_dimensions()\n",
    "\n",
    "test_dataset.group_samples()"
   ]
  },
  {
   "cell_type": "code",
   "execution_count": 19,
   "metadata": {},
   "outputs": [
    {
     "data": {
      "text/plain": [
       "torch.Size([1700, 1, 387])"
      ]
     },
     "execution_count": 19,
     "metadata": {},
     "output_type": "execute_result"
    }
   ],
   "source": [
    "test_dataset.segments_list.size()"
   ]
  },
  {
   "cell_type": "code",
   "execution_count": 20,
   "metadata": {},
   "outputs": [
    {
     "data": {
      "text/plain": [
       "torch.Size([1700, 10])"
      ]
     },
     "execution_count": 20,
     "metadata": {},
     "output_type": "execute_result"
    }
   ],
   "source": [
    "test_dataset.labels_list.size()"
   ]
  },
  {
   "cell_type": "code",
   "execution_count": 49,
   "metadata": {},
   "outputs": [],
   "source": [
    "train_dataloader = DataLoader(train_dataset, batch_size=100)"
   ]
  },
  {
   "cell_type": "code",
   "execution_count": 51,
   "metadata": {},
   "outputs": [
    {
     "data": {
      "text/plain": [
       "False"
      ]
     },
     "execution_count": 51,
     "metadata": {},
     "output_type": "execute_result"
    }
   ],
   "source": [
    "myemb = nn.Embedding.from_pretrained(torch.tensor(weights_matrix))\n",
    "\n",
    "myemb.weight.requires_grad"
   ]
  },
  {
   "cell_type": "code",
   "execution_count": 64,
   "metadata": {},
   "outputs": [
    {
     "name": "stdout",
     "output_type": "stream",
     "text": [
      "Before embedding layer: torch.Size([2026, 1, 425])\n",
      "After embedding layer: torch.Size([2026, 1, 425, 50])\n"
     ]
    }
   ],
   "source": [
    "print(\"Before embedding layer: \" + str(train_dataset.segments_list.shape))\n",
    "\n",
    "matrix = myemb(train_dataset.segments_list)\n",
    "\n",
    "print(\"After embedding layer: \" + str(matrix.shape))"
   ]
  },
  {
   "cell_type": "code",
   "execution_count": 53,
   "metadata": {},
   "outputs": [],
   "source": [
    "class CNN(nn.Module):\n",
    "    \n",
    "    def __init__(self, weights_matrix, Co, C, Ks):\n",
    "        \n",
    "        super(CNN, self).__init__()\n",
    "        \n",
    "        num_embeddings, embeddings_dim = weights_matrix.shape\n",
    "        \n",
    "        self.Co = Co\n",
    "        \n",
    "        self.C = C\n",
    "        \n",
    "        self.Ks = Ks\n",
    "        \n",
    "        self.embedding = nn.Embedding.from_pretrained(torch.tensor(weights_matrix).float())       \n",
    "                       \n",
    "        self.convolutions = nn.ModuleList([nn.Conv2d(1,self.Co,(k, embeddings_dim)) for k in Ks])\n",
    "            \n",
    "        self.relu = nn.ReLU()\n",
    "            \n",
    "        #self.max_pool = torch.max\n",
    "        \n",
    "        self.linear = nn.Linear(self.Co * len(self.Ks), self.C)\n",
    "        \n",
    "        self.sigmoid = nn.Sigmoid()\n",
    "    \n",
    "    def forward(self,x):\n",
    "        \n",
    "        x = self.embedding(x)\n",
    "        \n",
    "        x = [self.relu(conv(x)).squeeze(3) for conv in self.convolutions]\n",
    "        \n",
    "        x = [F.max_pool1d(i, i.size(2)).squeeze(2) for i in x]\n",
    "        \n",
    "        x = torch.cat(x,1)\n",
    "        \n",
    "        x = self.linear(x)\n",
    "        \n",
    "        x = self.sigmoid(x)\n",
    "        \n",
    "        return x        "
   ]
  },
  {
   "cell_type": "code",
   "execution_count": 141,
   "metadata": {},
   "outputs": [],
   "source": [
    "model = CNN(weights_matrix, 10, 10, [3,5,7])"
   ]
  },
  {
   "cell_type": "code",
   "execution_count": 146,
   "metadata": {
    "scrolled": true
   },
   "outputs": [],
   "source": [
    "input = train_dataset.segments_list\n",
    "\n",
    "target = train_dataset.labels_list.float()\n",
    "\n",
    "optimizer = torch.optim.SGD(model.parameters(), lr= 0.001)\n",
    "\n",
    "criterion = nn.BCELoss()\n",
    "\n",
    "losses = []\n",
    "\n",
    "epochs = []\n",
    "\n",
    "for epoch in range(20):\n",
    "    \n",
    "    for i_batch, sample_batched in enumerate(train_dataloader):\n",
    "\n",
    "        input = sample_batched[0]\n",
    "        \n",
    "        target = sample_batched[1].float()\n",
    "        \n",
    "        model.zero_grad()\n",
    "\n",
    "        output = model(input)\n",
    "\n",
    "        loss = criterion(output, target)\n",
    "\n",
    "        loss.backward()\n",
    "\n",
    "        optimizer.step()\n",
    "            \n",
    "    losses.append(loss.item())\n",
    "    \n",
    "    epochs.append(epoch)"
   ]
  },
  {
   "cell_type": "code",
   "execution_count": 147,
   "metadata": {},
   "outputs": [
    {
     "data": {
      "image/png": "[encoded data removed]",
      "text/plain": [
       "<Figure size 432x288 with 1 Axes>"
      ]
     },
     "metadata": {},
     "output_type": "display_data"
    }
   ],
   "source": [
    "plt.plot(epochs, losses)\n",
    "plt.show()"
   ]
  },
  {
   "cell_type": "code",
   "execution_count": 174,
   "metadata": {},
   "outputs": [],
   "source": [
    "threshold = 0.3\n",
    "\n",
    "y = test_dataset.labels_list\n",
    "\n",
    "y_hat = model(test_dataset.segments_list)"
   ]
  },
  {
   "cell_type": "code",
   "execution_count": 217,
   "metadata": {},
   "outputs": [
    {
     "name": "stdout",
     "output_type": "stream",
     "text": [
      "at least one label label accuracy\n"
     ]
    },
    {
     "data": {
      "text/plain": [
       "0.34647058823529414"
      ]
     },
     "execution_count": 217,
     "metadata": {},
     "output_type": "execute_result"
    }
   ],
   "source": [
    "def compute_accuracy(Y, Y_hat, test = 'ALO', **kwargs):\n",
    "\n",
    "    def at_least_one(y, y_hat, threshold = 0.2):\n",
    "        \n",
    "        y_hat = y_hat > threshold\n",
    "    \n",
    "        return any([y_i.item() and y_hat_i.item() for y_i, y_hat_i in zip(y, y_hat)])\n",
    "    \n",
    "    def most_probable_label(y, y_hat):\n",
    "\n",
    "        i_ = [i for i, a in enumerate(y) if a == max(y)]\n",
    "\n",
    "        [j_] = [j for j, b in enumerate(y_hat) if b == max(y_hat)]\n",
    "        \n",
    "        return j_ in i_\n",
    "    \n",
    "    num_samples = float(Y.shape[0])\n",
    "    \n",
    "    iterations = 0\n",
    "    \n",
    "    if test == 'ALO':\n",
    "        \n",
    "        print(\"at least one label label accuracy\")\n",
    "        \n",
    "        parameters = dict(kwargs)\n",
    "        \n",
    "        try:\n",
    "            \n",
    "            positives = sum([at_least_one(y, y_hat, parameters['threshold']) for y, y_hat in zip(Y, Y_hat)])\n",
    "            \n",
    "        except:\n",
    "            \n",
    "            positives = sum([at_least_one(y, y_hat) for y, y_hat in zip(Y, Y_hat)])      \n",
    "        \n",
    "    elif test == 'MPL':\n",
    "                \n",
    "        print(\"most probable label accuracy\")\n",
    "        \n",
    "        positives = sum([most_probable_label(y, y_hat) for y, y_hat in zip(Y, Y_hat)])\n",
    "        \n",
    "    else:\n",
    "        \n",
    "        print(\"not a valid test name ...\")\n",
    "        \n",
    "        positives = 0\n",
    "    \n",
    "    return positives / num_samples\n",
    "\n",
    "compute_accuracy(y, y_hat, 'ALO', threshold = 0.3)"
   ]
  },
  {
   "cell_type": "code",
   "execution_count": null,
   "metadata": {},
   "outputs": [],
   "source": [
    "torch.save(model, \"second_model.model\")"
   ]
  },
  {
   "cell_type": "markdown",
   "metadata": {},
   "source": [
    "### Things to take into consideration\n",
    "\n",
    "1. It seems that with teh GloVe pretrained embeddings there are 1000 words that are missing and are initialized as random vectors.\n",
    "2. Here we can see a very strange behaviour. We are expecting to have all 0s except for the last entry in which we are expecting Ln(0.9) and it is not even close to it. It seems they are not computing the BCE exactly as we think."
   ]
  }
 ],
 "metadata": {
  "kernelspec": {
   "display_name": "Python 2",
   "language": "python",
   "name": "python2"
  },
  "language_info": {
   "codemirror_mode": {
    "name": "ipython",
    "version": 2
   },
   "file_extension": ".py",
   "mimetype": "text/x-python",
   "name": "python",
   "nbconvert_exporter": "python",
   "pygments_lexer": "ipython2",
   "version": "2.7.15"
  }
 },
 "nbformat": 4,
 "nbformat_minor": 2
}
