{
 "cells": [
  {
   "cell_type": "code",
   "execution_count": null,
   "metadata": {},
   "outputs": [],
   "source": [
    "import pandas as pd\n",
    "import torch\n",
    "import torch.nn as nn\n",
    "import torch.nn.functional as F\n",
    "from math import log, log10\n",
    "from torch.utils.data import Dataset\n",
    "import data_processing as dp\n",
    "import pickle\n",
    "from privacy_policies_dataset import PrivacyPoliciesDataset\n",
    "from os.path import isfile, join\n",
    "from os import listdir\n",
    "import numpy as np"
   ]
  },
  {
   "cell_type": "code",
   "execution_count": null,
   "metadata": {},
   "outputs": [],
   "source": [
    "dictionary = dp.get_tokens(\"raw_data\")"
   ]
  },
  {
   "cell_type": "code",
   "execution_count": null,
   "metadata": {},
   "outputs": [],
   "source": [
    "len(dictionary)"
   ]
  },
  {
   "cell_type": "code",
   "execution_count": null,
   "metadata": {},
   "outputs": [],
   "source": [
    "word2vector, word2idx_glove = dp.get_glove_dicts(\"glove.6B\", 50)"
   ]
  },
  {
   "cell_type": "code",
   "execution_count": null,
   "metadata": {},
   "outputs": [],
   "source": [
    "word2vector[None]"
   ]
  },
  {
   "cell_type": "code",
   "execution_count": null,
   "metadata": {},
   "outputs": [],
   "source": [
    "word2idx_glove[None]"
   ]
  },
  {
   "cell_type": "code",
   "execution_count": null,
   "metadata": {},
   "outputs": [],
   "source": [
    "weights_matrix, word2idx = dp.get_weight_matrix(dictionary, word2vector, 50)"
   ]
  },
  {
   "cell_type": "code",
   "execution_count": null,
   "metadata": {},
   "outputs": [],
   "source": [
    "num_embeddings, embeddings_dim = weights_matrix.shape"
   ]
  },
  {
   "cell_type": "code",
   "execution_count": null,
   "metadata": {},
   "outputs": [],
   "source": [
    "labels_file = open(\"labels.pkl\",\"rb\")\n",
    "\n",
    "labels = pickle.load(labels_file)\n",
    "\n",
    "labels_file.close()"
   ]
  },
  {
   "cell_type": "code",
   "execution_count": null,
   "metadata": {
    "scrolled": true
   },
   "outputs": [],
   "source": [
    "sentence_matrices, labels_matrices = dp.process_dataset(labels, word2idx)"
   ]
  },
  {
   "cell_type": "code",
   "execution_count": null,
   "metadata": {},
   "outputs": [],
   "source": [
    "dp.get_aggregated_data(read=True)"
   ]
  },
  {
   "cell_type": "code",
   "execution_count": null,
   "metadata": {},
   "outputs": [],
   "source": [
    "dataset = PrivacyPoliciesDataset(\"raw_data\", word2idx, labels)"
   ]
  },
  {
   "cell_type": "code",
   "execution_count": null,
   "metadata": {},
   "outputs": [],
   "source": [
    "dataset.resize_segments()"
   ]
  },
  {
   "cell_type": "code",
   "execution_count": null,
   "metadata": {},
   "outputs": [],
   "source": [
    "segment_example, _ = dataset[0]"
   ]
  },
  {
   "cell_type": "code",
   "execution_count": null,
   "metadata": {},
   "outputs": [],
   "source": [
    "myemb = nn.Embedding(num_embeddings, embeddings_dim)\n",
    "\n",
    "myemb.from_pretrained(torch.tensor(weights_matrix))"
   ]
  },
  {
   "cell_type": "code",
   "execution_count": null,
   "metadata": {},
   "outputs": [],
   "source": [
    "matrix = myemb(segment_example)\n",
    "\n",
    "print(\"Before reshaping: \" + str(matrix.shape))\n",
    "\n",
    "# matrix = matrix.view(1,1,67,50)\n",
    "\n",
    "# print(\"After reshaping: \" + str(matrix.shape))"
   ]
  },
  {
   "cell_type": "code",
   "execution_count": null,
   "metadata": {},
   "outputs": [],
   "source": [
    "conv = nn.Conv2d(1,2,(7, 50))"
   ]
  },
  {
   "cell_type": "code",
   "execution_count": null,
   "metadata": {},
   "outputs": [],
   "source": [
    "output = conv(matrix)"
   ]
  },
  {
   "cell_type": "code",
   "execution_count": null,
   "metadata": {},
   "outputs": [],
   "source": [
    "output.shape"
   ]
  },
  {
   "cell_type": "code",
   "execution_count": null,
   "metadata": {},
   "outputs": [],
   "source": [
    "class CNN(nn.Module):\n",
    "    \n",
    "    def __init__(self, weights_matrix):\n",
    "        \n",
    "        super(CNN, self).__init__()\n",
    "        \n",
    "        num_embeddings, embeddings_dim = weights_matrix.shape\n",
    "        \n",
    "        self.embedding = nn.Embedding(num_embeddings, embeddings_dim)\n",
    "                \n",
    "        self.first_channel = nn.Sequential(\n",
    "            \n",
    "            nn.Conv2d(1,2,(7, embeddings_dim)),\n",
    "            \n",
    "            nn.ReLU(),\n",
    "            \n",
    "            nn.MaxPool2d(kernel_size=2, stride=2)\n",
    "            \n",
    "        )\n",
    "        \n",
    "        self.second_channel = nn.Sequential(\n",
    "            \n",
    "            nn.Conv2d(1,2,(5, embeddings_dim)),\n",
    "            \n",
    "            nn.ReLU(),\n",
    "            \n",
    "            nn.MaxPool2d(kernel_size=2, stride=2)\n",
    "            \n",
    "        )\n",
    "        \n",
    "        self.third_channel = nn.Sequential(\n",
    "            \n",
    "            nn.Conv2d(1,2,(3, embeddings_dim)),\n",
    "            \n",
    "            nn.ReLU(),\n",
    "            \n",
    "            nn.MaxPool2d(kernel_size=2, stride=2)\n",
    "            \n",
    "        )\n",
    "        \n",
    "        self.deep_neural_network = nn.Sequential(\n",
    "            \n",
    "        )\n",
    "    \n",
    "    def forward(self):\n",
    "        \n",
    "        pass"
   ]
  },
  {
   "cell_type": "markdown",
   "metadata": {},
   "source": [
    "Here we can see a very strange behaviour. We are expecting to have all 0s except for the last entry in which we are expecting Ln(0.9) and it is not even close to it. It seems they are not computing the BCE exactly as we think. "
   ]
  },
  {
   "cell_type": "code",
   "execution_count": null,
   "metadata": {},
   "outputs": [],
   "source": [
    "y_hat = torch.tensor([[1, 0, 0],[0, 1, 0.9]]).float()\n",
    "y = torch.tensor([[1, 0, 0],[0, 1, 1]]).float()"
   ]
  },
  {
   "cell_type": "code",
   "execution_count": null,
   "metadata": {},
   "outputs": [],
   "source": [
    "F.binary_cross_entropy(y,y_hat,reduction=\"none\")"
   ]
  },
  {
   "cell_type": "code",
   "execution_count": null,
   "metadata": {},
   "outputs": [],
   "source": [
    "loss=nn.BCELoss()\n",
    "loss(y_hat,y)"
   ]
  },
  {
   "cell_type": "markdown",
   "metadata": {},
   "source": [
    "### Things to take into consideration\n",
    "\n",
    "1. It seems that with teh GloVe pretrained embeddings there are 1000 words that are missing and are initialized as random vectors."
   ]
  }
 ],
 "metadata": {
  "kernelspec": {
   "display_name": "Python 2",
   "language": "python",
   "name": "python2"
  },
  "language_info": {
   "codemirror_mode": {
    "name": "ipython",
    "version": 2
   },
   "file_extension": ".py",
   "mimetype": "text/x-python",
   "name": "python",
   "nbconvert_exporter": "python",
   "pygments_lexer": "ipython2",
   "version": "2.7.15"
  }
 },
 "nbformat": 4,
 "nbformat_minor": 2
}
